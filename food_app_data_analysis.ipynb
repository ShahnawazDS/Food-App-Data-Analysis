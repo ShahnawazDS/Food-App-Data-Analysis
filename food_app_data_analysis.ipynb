{
 "cells": [
  {
   "cell_type": "code",
   "execution_count": 6,
   "metadata": {},
   "outputs": [],
   "source": [
    "import pandas as pd\n",
    "import numpy as np\n",
    "import string\n",
    "import re\n",
    "import warnings\n",
    "warnings.filterwarnings(\"ignore\")"
   ]
  },
  {
   "cell_type": "code",
   "execution_count": 9,
   "metadata": {},
   "outputs": [],
   "source": [
    "#reading datasets\n",
    "hotels=pd.read_csv('zomato.csv')  "
   ]
  },
  {
   "cell_type": "code",
   "execution_count": 11,
   "metadata": {},
   "outputs": [
    {
     "data": {
      "text/html": [
       "<div>\n",
       "<style scoped>\n",
       "    .dataframe tbody tr th:only-of-type {\n",
       "        vertical-align: middle;\n",
       "    }\n",
       "\n",
       "    .dataframe tbody tr th {\n",
       "        vertical-align: top;\n",
       "    }\n",
       "\n",
       "    .dataframe thead th {\n",
       "        text-align: right;\n",
       "    }\n",
       "</style>\n",
       "<table border=\"1\" class=\"dataframe\">\n",
       "  <thead>\n",
       "    <tr style=\"text-align: right;\">\n",
       "      <th></th>\n",
       "      <th>address</th>\n",
       "      <th>name</th>\n",
       "      <th>online_order</th>\n",
       "      <th>book_table</th>\n",
       "      <th>rate</th>\n",
       "      <th>votes</th>\n",
       "      <th>phone</th>\n",
       "      <th>location</th>\n",
       "      <th>rest_type</th>\n",
       "      <th>dish_liked</th>\n",
       "      <th>cuisines</th>\n",
       "      <th>approx_cost(for two people)</th>\n",
       "      <th>listed_in(type)</th>\n",
       "    </tr>\n",
       "  </thead>\n",
       "  <tbody>\n",
       "    <tr>\n",
       "      <th>0</th>\n",
       "      <td>942, 21st Main Road, 2nd Stage, Banashankari, ...</td>\n",
       "      <td>Jalsa</td>\n",
       "      <td>Yes</td>\n",
       "      <td>Yes</td>\n",
       "      <td>4.1/5</td>\n",
       "      <td>775</td>\n",
       "      <td>080 42297555\\r\\n+91 9743772233</td>\n",
       "      <td>Banashankari</td>\n",
       "      <td>Casual Dining</td>\n",
       "      <td>Pasta, Lunch Buffet, Masala Papad, Paneer Laja...</td>\n",
       "      <td>North Indian, Mughlai, Chinese</td>\n",
       "      <td>800</td>\n",
       "      <td>Buffet</td>\n",
       "    </tr>\n",
       "    <tr>\n",
       "      <th>1</th>\n",
       "      <td>2nd Floor, 80 Feet Road, Near Big Bazaar, 6th ...</td>\n",
       "      <td>Spice Elephant</td>\n",
       "      <td>Yes</td>\n",
       "      <td>No</td>\n",
       "      <td>4.1/5</td>\n",
       "      <td>787</td>\n",
       "      <td>080 41714161</td>\n",
       "      <td>Banashankari</td>\n",
       "      <td>Casual Dining</td>\n",
       "      <td>Momos, Lunch Buffet, Chocolate Nirvana, Thai G...</td>\n",
       "      <td>Chinese, North Indian, Thai</td>\n",
       "      <td>800</td>\n",
       "      <td>Buffet</td>\n",
       "    </tr>\n",
       "    <tr>\n",
       "      <th>2</th>\n",
       "      <td>1112, Next to KIMS Medical College, 17th Cross...</td>\n",
       "      <td>San Churro Cafe</td>\n",
       "      <td>Yes</td>\n",
       "      <td>No</td>\n",
       "      <td>3.8/5</td>\n",
       "      <td>918</td>\n",
       "      <td>+91 9663487993</td>\n",
       "      <td>Banashankari</td>\n",
       "      <td>Cafe, Casual Dining</td>\n",
       "      <td>Churros, Cannelloni, Minestrone Soup, Hot Choc...</td>\n",
       "      <td>Cafe, Mexican, Italian</td>\n",
       "      <td>800</td>\n",
       "      <td>Buffet</td>\n",
       "    </tr>\n",
       "    <tr>\n",
       "      <th>3</th>\n",
       "      <td>1st Floor, Annakuteera, 3rd Stage, Banashankar...</td>\n",
       "      <td>Addhuri Udupi Bhojana</td>\n",
       "      <td>No</td>\n",
       "      <td>No</td>\n",
       "      <td>3.7/5</td>\n",
       "      <td>88</td>\n",
       "      <td>+91 9620009302</td>\n",
       "      <td>Banashankari</td>\n",
       "      <td>Quick Bites</td>\n",
       "      <td>Masala Dosa</td>\n",
       "      <td>South Indian, North Indian</td>\n",
       "      <td>300</td>\n",
       "      <td>Buffet</td>\n",
       "    </tr>\n",
       "    <tr>\n",
       "      <th>4</th>\n",
       "      <td>10, 3rd Floor, Lakshmi Associates, Gandhi Baza...</td>\n",
       "      <td>Grand Village</td>\n",
       "      <td>No</td>\n",
       "      <td>No</td>\n",
       "      <td>3.8/5</td>\n",
       "      <td>166</td>\n",
       "      <td>+91 8026612447\\r\\n+91 9901210005</td>\n",
       "      <td>Basavanagudi</td>\n",
       "      <td>Casual Dining</td>\n",
       "      <td>Panipuri, Gol Gappe</td>\n",
       "      <td>North Indian, Rajasthani</td>\n",
       "      <td>600</td>\n",
       "      <td>Buffet</td>\n",
       "    </tr>\n",
       "  </tbody>\n",
       "</table>\n",
       "</div>"
      ],
      "text/plain": [
       "                                             address                   name  \\\n",
       "0  942, 21st Main Road, 2nd Stage, Banashankari, ...                  Jalsa   \n",
       "1  2nd Floor, 80 Feet Road, Near Big Bazaar, 6th ...         Spice Elephant   \n",
       "2  1112, Next to KIMS Medical College, 17th Cross...        San Churro Cafe   \n",
       "3  1st Floor, Annakuteera, 3rd Stage, Banashankar...  Addhuri Udupi Bhojana   \n",
       "4  10, 3rd Floor, Lakshmi Associates, Gandhi Baza...          Grand Village   \n",
       "\n",
       "  online_order book_table   rate votes                             phone  \\\n",
       "0          Yes        Yes  4.1/5   775    080 42297555\\r\\n+91 9743772233   \n",
       "1          Yes         No  4.1/5   787                      080 41714161   \n",
       "2          Yes         No  3.8/5   918                    +91 9663487993   \n",
       "3           No         No  3.7/5    88                    +91 9620009302   \n",
       "4           No         No  3.8/5   166  +91 8026612447\\r\\n+91 9901210005   \n",
       "\n",
       "       location            rest_type  \\\n",
       "0  Banashankari        Casual Dining   \n",
       "1  Banashankari        Casual Dining   \n",
       "2  Banashankari  Cafe, Casual Dining   \n",
       "3  Banashankari          Quick Bites   \n",
       "4  Basavanagudi        Casual Dining   \n",
       "\n",
       "                                          dish_liked  \\\n",
       "0  Pasta, Lunch Buffet, Masala Papad, Paneer Laja...   \n",
       "1  Momos, Lunch Buffet, Chocolate Nirvana, Thai G...   \n",
       "2  Churros, Cannelloni, Minestrone Soup, Hot Choc...   \n",
       "3                                        Masala Dosa   \n",
       "4                                Panipuri, Gol Gappe   \n",
       "\n",
       "                         cuisines approx_cost(for two people) listed_in(type)  \n",
       "0  North Indian, Mughlai, Chinese                         800          Buffet  \n",
       "1     Chinese, North Indian, Thai                         800          Buffet  \n",
       "2          Cafe, Mexican, Italian                         800          Buffet  \n",
       "3      South Indian, North Indian                         300          Buffet  \n",
       "4        North Indian, Rajasthani                         600          Buffet  "
      ]
     },
     "execution_count": 11,
     "metadata": {},
     "output_type": "execute_result"
    }
   ],
   "source": [
    "#Checking head of data \n",
    "hotels.head()"
   ]
  },
  {
   "cell_type": "code",
   "execution_count": 12,
   "metadata": {},
   "outputs": [
    {
     "data": {
      "text/plain": [
       "(56252, 13)"
      ]
     },
     "execution_count": 12,
     "metadata": {},
     "output_type": "execute_result"
    }
   ],
   "source": [
    "#CHecking shape of data set\n",
    "hotels.shape"
   ]
  },
  {
   "attachments": {},
   "cell_type": "markdown",
   "metadata": {},
   "source": [
    "Step 1: Removing Unwanted Columns"
   ]
  },
  {
   "cell_type": "code",
   "execution_count": 13,
   "metadata": {},
   "outputs": [],
   "source": [
    "#Removing unwanted col\n",
    "hotels = hotels.drop(['address','phone'], axis=1)"
   ]
  },
  {
   "cell_type": "markdown",
   "metadata": {},
   "source": [
    "Step 2:Renaming and Selecting Columns in a Dataset"
   ]
  },
  {
   "cell_type": "code",
   "execution_count": 14,
   "metadata": {},
   "outputs": [],
   "source": [
    "    #task2: rename columns, only these columns are allowed in the dataset\n",
    "    # 1.\tId\n",
    "    # 2.\tName\n",
    "    # 3.\tonline_order\n",
    "    # 4.\tbook_table\n",
    "    # 5.\trating\n",
    "    # 6.\tvotes\n",
    "    # 7.\tlocation\n",
    "    # 8.\trest_type\n",
    "    # 9.\tdish_liked\n",
    "    # 10.\tcuisines\n",
    "    # 11.\tapprox_cost\n",
    "    # 12.\ttype\n",
    "    \n",
    "new_col_names = {'id': 'Id',\n",
    "'name': 'name',\n",
    "'online_order': 'online_order',\n",
    "'book_table': 'book_table',\n",
    "'rate': 'rating',\n",
    "'votes': 'votes',\n",
    "'location': 'location',\n",
    "'rest_type': 'rest_type',\n",
    "'dish_liked': 'dish_liked',\n",
    "'cuisines': 'cuisines',\n",
    "'approx_cost(for two people)': 'approx_cost',\n",
    "'listed_in(type)': 'type'\n",
    "}\n",
    "    \n",
    "hotels = hotels.rename(columns=new_col_names)\n",
    "    "
   ]
  },
  {
   "cell_type": "markdown",
   "metadata": {},
   "source": [
    "Step 3: Dealing with Null Values in a Dataset"
   ]
  },
  {
   "cell_type": "code",
   "execution_count": 15,
   "metadata": {},
   "outputs": [],
   "source": [
    "#deleting null values of name column\n",
    "    \n",
    "hotels = hotels.dropna(subset=['name'])\n",
    "    \n",
    "#handling null values of online_order\n",
    "    \n",
    "hotels['online_order'] = hotels['online_order'].fillna('NA')\n",
    "    \n",
    "#handling null values of book_table\n",
    "    \n",
    "hotels['book_table'] = hotels['book_table'].fillna('NA')\n",
    "\n",
    "#handling null values of rating\n",
    "    \n",
    "hotels['rating'] = hotels['rating'].fillna(0)\n",
    "    \n",
    "#handling null values of votes\n",
    "    \n",
    "hotels['votes'] = hotels['votes'].fillna(0)\n",
    "    \n",
    "#handling null values of location\n",
    "    \n",
    "hotels['location'] = hotels['location'].fillna('NA')\n",
    "    \n",
    "#handling null values of rest_type\n",
    "    \n",
    "hotels['rest_type'] = hotels['rest_type'].fillna('NA')\n",
    "    \n",
    "#handling null values of dishliked\n",
    "    \n",
    "hotels['dish_liked'] = hotels['dish_liked'].fillna('NA')\n",
    "    \n",
    "#handling null values of cuisines\n",
    "    \n",
    "hotels['cuisines'] = hotels['cuisines'].fillna('NA')\n",
    "    \n",
    "#handling null values of approxcost\n",
    "   \n",
    "hotels['approx_cost'] = hotels['approx_cost'].fillna(0)\n",
    "   \n",
    "#handling null values of type\n",
    "    \n",
    "hotels['type'] = hotels['type'].fillna('NA')\n"
   ]
  },
  {
   "attachments": {},
   "cell_type": "markdown",
   "metadata": {},
   "source": [
    "Step 4: Identifying Duplicate Data in a Dataset"
   ]
  },
  {
   "cell_type": "code",
   "execution_count": 16,
   "metadata": {},
   "outputs": [],
   "source": [
    "#Droping duplicates from dataset.\n",
    "hotels.drop_duplicates(inplace=True)"
   ]
  },
  {
   "attachments": {},
   "cell_type": "markdown",
   "metadata": {},
   "source": [
    "Step 5: Text Cleaning"
   ]
  },
  {
   "cell_type": "code",
   "execution_count": 17,
   "metadata": {},
   "outputs": [],
   "source": [
    "#we have irrelevant reviews like string eg(RATED,Rated) in our name,online_order etc columns remove this irrelevant text from all the columns.\n",
    "# Define a function to clean the text in each column\n",
    "hotels = hotels[hotels['name'].str.contains('rated', case=False)==False]\n",
    "hotels = hotels[hotels['online_order'].str.contains('rated', case=False)==False]\n",
    "hotels = hotels[hotels['book_table'].str.contains('rated', case=False)==False]\n",
    "hotels = hotels[hotels['rating'].str.contains('rated', case=False)==False]\n",
    "hotels = hotels[hotels['votes'].str.contains('rated', case=False)==False]\n",
    "hotels = hotels[hotels['location'].str.contains('rated', case=False)==False]\n",
    "hotels = hotels[hotels['rest_type'].str.contains('rated', case=False)==False]\n",
    "hotels = hotels[hotels['dish_liked'].str.contains('rated', case=False)==False]\n",
    "hotels = hotels[hotels['cuisines'].str.contains('rated', case=False)==False]\n",
    "hotels = hotels[hotels['approx_cost'].str.contains('rated', case=False)==False]\n",
    "hotels = hotels[hotels['type'].str.contains('rated', case=False)==False]"
   ]
  },
  {
   "attachments": {},
   "cell_type": "markdown",
   "metadata": {},
   "source": [
    "Step 6: Unique Value Check and Irrelevant Value Handling"
   ]
  },
  {
   "cell_type": "code",
   "execution_count": 18,
   "metadata": {},
   "outputs": [],
   "source": [
    "# Remove irrelevant values from online_order column\n",
    "hotels = hotels[(hotels['online_order'] == 'Yes') | (hotels['online_order'] == 'No')]\n",
    "\n",
    "hotels['rating'] = hotels['rating'].apply(lambda x: str(x.split('/')[0]) if (x != 'NEW' and x != '-') else 0)"
   ]
  },
  {
   "attachments": {},
   "cell_type": "markdown",
   "metadata": {},
   "source": [
    "Step 7: Cleaning and Exporting Zomato Dataset"
   ]
  },
  {
   "cell_type": "code",
   "execution_count": 20,
   "metadata": {},
   "outputs": [],
   "source": [
    "#remove the unknown character from the dataset and export it to \"zomatocleaned.csv\"\n",
    "hotels['name'] = hotels['name'].str.replace('[Ãx][^A-Za-z]+','',regex=True)"
   ]
  },
  {
   "cell_type": "code",
   "execution_count": 22,
   "metadata": {},
   "outputs": [],
   "source": [
    "#export cleaned Dataset to newcsv file named \"zomatocleaned.csv\"\n",
    "hotels.to_csv('zomatocleaned.csv')"
   ]
  },
  {
   "cell_type": "code",
   "execution_count": null,
   "metadata": {},
   "outputs": [],
   "source": []
  }
 ],
 "metadata": {
  "kernelspec": {
   "display_name": "base",
   "language": "python",
   "name": "python3"
  },
  "language_info": {
   "codemirror_mode": {
    "name": "ipython",
    "version": 3
   },
   "file_extension": ".py",
   "mimetype": "text/x-python",
   "name": "python",
   "nbconvert_exporter": "python",
   "pygments_lexer": "ipython3",
   "version": "3.9.7"
  },
  "orig_nbformat": 4,
  "vscode": {
   "interpreter": {
    "hash": "ad2bdc8ecc057115af97d19610ffacc2b4e99fae6737bb82f5d7fb13d2f2c186"
   }
  }
 },
 "nbformat": 4,
 "nbformat_minor": 2
}
